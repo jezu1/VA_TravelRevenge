{
 "cells": [
  {
   "cell_type": "code",
   "execution_count": 1,
   "metadata": {},
   "outputs": [],
   "source": [
    "import pandas as pd"
   ]
  },
  {
   "cell_type": "code",
   "execution_count": 2,
   "metadata": {},
   "outputs": [],
   "source": [
    "df = pd.read_csv(\"./data/tourism_exp_dest.csv\")"
   ]
  },
  {
   "cell_type": "code",
   "execution_count": 3,
   "metadata": {},
   "outputs": [
    {
     "data": {
      "text/plain": [
       "Purpose\n",
       "Total                     3380\n",
       "Personal reasons          3150\n",
       "Professional, business     959\n",
       "Name: count, dtype: int64"
      ]
     },
     "execution_count": 3,
     "metadata": {},
     "output_type": "execute_result"
    }
   ],
   "source": [
    "df.Purpose.value_counts()"
   ]
  },
  {
   "cell_type": "code",
   "execution_count": 4,
   "metadata": {},
   "outputs": [
    {
     "data": {
      "text/plain": [
       "Duration\n",
       "1 night or over       3231\n",
       "4 nights or over      2652\n",
       "From 1 to 3 nights    1606\n",
       "Name: count, dtype: int64"
      ]
     },
     "execution_count": 4,
     "metadata": {},
     "output_type": "execute_result"
    }
   ],
   "source": [
    "df.Duration.value_counts()"
   ]
  },
  {
   "cell_type": "code",
   "execution_count": 5,
   "metadata": {},
   "outputs": [
    {
     "data": {
      "text/plain": [
       "Expenditure_Type\n",
       "Total excluding durable/valuable goods    5146\n",
       "Package arrangement                       2343\n",
       "Name: count, dtype: int64"
      ]
     },
     "execution_count": 5,
     "metadata": {},
     "output_type": "execute_result"
    }
   ],
   "source": [
    "df.Expenditure_Type.value_counts()"
   ]
  },
  {
   "cell_type": "code",
   "execution_count": 6,
   "metadata": {},
   "outputs": [],
   "source": [
    "df = df.loc[(df.Expenditure_Type == \"Total excluding durable/valuable goods\") & (df.Purpose == \"Total\")]"
   ]
  },
  {
   "cell_type": "code",
   "execution_count": 7,
   "metadata": {},
   "outputs": [
    {
     "data": {
      "text/html": [
       "<div>\n",
       "<style scoped>\n",
       "    .dataframe tbody tr th:only-of-type {\n",
       "        vertical-align: middle;\n",
       "    }\n",
       "\n",
       "    .dataframe tbody tr th {\n",
       "        vertical-align: top;\n",
       "    }\n",
       "\n",
       "    .dataframe thead th {\n",
       "        text-align: right;\n",
       "    }\n",
       "</style>\n",
       "<table border=\"1\" class=\"dataframe\">\n",
       "  <thead>\n",
       "    <tr style=\"text-align: right;\">\n",
       "      <th></th>\n",
       "      <th>Year</th>\n",
       "      <th>Origin_Country_Code</th>\n",
       "      <th>Origin_Country</th>\n",
       "      <th>Destination_Country_Code</th>\n",
       "      <th>Destination_Country</th>\n",
       "      <th>Purpose</th>\n",
       "      <th>Duration</th>\n",
       "      <th>Expenditure_Type</th>\n",
       "      <th>Total_Expenditure_EUR</th>\n",
       "      <th>Avg_Exp_per_Trip_EUR</th>\n",
       "      <th>Avg_Exp_per_Night_EUR</th>\n",
       "    </tr>\n",
       "  </thead>\n",
       "  <tbody>\n",
       "    <tr>\n",
       "      <th>198</th>\n",
       "      <td>2019</td>\n",
       "      <td>AL</td>\n",
       "      <td>Albania</td>\n",
       "      <td>AT</td>\n",
       "      <td>Austria</td>\n",
       "      <td>Total</td>\n",
       "      <td>From 1 to 3 nights</td>\n",
       "      <td>Total excluding durable/valuable goods</td>\n",
       "      <td>8.602610e+05</td>\n",
       "      <td>69.57</td>\n",
       "      <td>34.79</td>\n",
       "    </tr>\n",
       "    <tr>\n",
       "      <th>199</th>\n",
       "      <td>2019</td>\n",
       "      <td>AT</td>\n",
       "      <td>Austria</td>\n",
       "      <td>AT</td>\n",
       "      <td>Austria</td>\n",
       "      <td>Total</td>\n",
       "      <td>From 1 to 3 nights</td>\n",
       "      <td>Total excluding durable/valuable goods</td>\n",
       "      <td>2.614090e+09</td>\n",
       "      <td>277.12</td>\n",
       "      <td>148.51</td>\n",
       "    </tr>\n",
       "  </tbody>\n",
       "</table>\n",
       "</div>"
      ],
      "text/plain": [
       "     Year Origin_Country_Code Origin_Country Destination_Country_Code  \\\n",
       "198  2019                  AL        Albania                       AT   \n",
       "199  2019                  AT        Austria                       AT   \n",
       "\n",
       "    Destination_Country Purpose            Duration  \\\n",
       "198             Austria   Total  From 1 to 3 nights   \n",
       "199             Austria   Total  From 1 to 3 nights   \n",
       "\n",
       "                           Expenditure_Type  Total_Expenditure_EUR  \\\n",
       "198  Total excluding durable/valuable goods           8.602610e+05   \n",
       "199  Total excluding durable/valuable goods           2.614090e+09   \n",
       "\n",
       "     Avg_Exp_per_Trip_EUR  Avg_Exp_per_Night_EUR  \n",
       "198                 69.57                  34.79  \n",
       "199                277.12                 148.51  "
      ]
     },
     "execution_count": 7,
     "metadata": {},
     "output_type": "execute_result"
    }
   ],
   "source": [
    "df.head(2)"
   ]
  },
  {
   "cell_type": "code",
   "execution_count": 8,
   "metadata": {},
   "outputs": [
    {
     "data": {
      "text/plain": [
       "Index(['Year', 'Origin_Country_Code', 'Origin_Country',\n",
       "       'Destination_Country_Code', 'Destination_Country', 'Purpose',\n",
       "       'Duration', 'Expenditure_Type', 'Total_Expenditure_EUR',\n",
       "       'Avg_Exp_per_Trip_EUR', 'Avg_Exp_per_Night_EUR'],\n",
       "      dtype='object')"
      ]
     },
     "execution_count": 8,
     "metadata": {},
     "output_type": "execute_result"
    }
   ],
   "source": [
    "df.columns"
   ]
  },
  {
   "cell_type": "code",
   "execution_count": 9,
   "metadata": {},
   "outputs": [],
   "source": [
    "agg = df.groupby(\n",
    "    ['Year', 'Origin_Country_Code', 'Origin_Country', 'Destination_Country_Code', 'Destination_Country']\n",
    ").agg({'Total_Expenditure_EUR': 'sum', 'Avg_Exp_per_Trip_EUR': 'mean',  'Avg_Exp_per_Night_EUR': 'mean'}).reset_index()"
   ]
  },
  {
   "cell_type": "code",
   "execution_count": 10,
   "metadata": {},
   "outputs": [
    {
     "data": {
      "text/html": [
       "<div>\n",
       "<style scoped>\n",
       "    .dataframe tbody tr th:only-of-type {\n",
       "        vertical-align: middle;\n",
       "    }\n",
       "\n",
       "    .dataframe tbody tr th {\n",
       "        vertical-align: top;\n",
       "    }\n",
       "\n",
       "    .dataframe thead th {\n",
       "        text-align: right;\n",
       "    }\n",
       "</style>\n",
       "<table border=\"1\" class=\"dataframe\">\n",
       "  <thead>\n",
       "    <tr style=\"text-align: right;\">\n",
       "      <th></th>\n",
       "      <th>Year</th>\n",
       "      <th>Origin_Country_Code</th>\n",
       "      <th>Origin_Country</th>\n",
       "      <th>Destination_Country_Code</th>\n",
       "      <th>Destination_Country</th>\n",
       "      <th>Total_Expenditure_EUR</th>\n",
       "      <th>Avg_Exp_per_Trip_EUR</th>\n",
       "      <th>Avg_Exp_per_Night_EUR</th>\n",
       "    </tr>\n",
       "  </thead>\n",
       "  <tbody>\n",
       "    <tr>\n",
       "      <th>0</th>\n",
       "      <td>2019</td>\n",
       "      <td>AL</td>\n",
       "      <td>Albania</td>\n",
       "      <td>AT</td>\n",
       "      <td>Austria</td>\n",
       "      <td>6.275244e+06</td>\n",
       "      <td>126.166667</td>\n",
       "      <td>28.533333</td>\n",
       "    </tr>\n",
       "    <tr>\n",
       "      <th>1</th>\n",
       "      <td>2019</td>\n",
       "      <td>AL</td>\n",
       "      <td>Albania</td>\n",
       "      <td>CH</td>\n",
       "      <td>Switzerland</td>\n",
       "      <td>1.339693e+06</td>\n",
       "      <td>115.970000</td>\n",
       "      <td>32.350000</td>\n",
       "    </tr>\n",
       "    <tr>\n",
       "      <th>2</th>\n",
       "      <td>2019</td>\n",
       "      <td>AL</td>\n",
       "      <td>Albania</td>\n",
       "      <td>DE</td>\n",
       "      <td>Germany</td>\n",
       "      <td>1.492818e+07</td>\n",
       "      <td>162.510000</td>\n",
       "      <td>10.340000</td>\n",
       "    </tr>\n",
       "    <tr>\n",
       "      <th>3</th>\n",
       "      <td>2019</td>\n",
       "      <td>AL</td>\n",
       "      <td>Albania</td>\n",
       "      <td>EL</td>\n",
       "      <td>Greece</td>\n",
       "      <td>1.192022e+08</td>\n",
       "      <td>160.233333</td>\n",
       "      <td>24.463333</td>\n",
       "    </tr>\n",
       "    <tr>\n",
       "      <th>4</th>\n",
       "      <td>2019</td>\n",
       "      <td>AL</td>\n",
       "      <td>Albania</td>\n",
       "      <td>FR</td>\n",
       "      <td>France</td>\n",
       "      <td>6.803330e+06</td>\n",
       "      <td>312.690000</td>\n",
       "      <td>16.260000</td>\n",
       "    </tr>\n",
       "    <tr>\n",
       "      <th>...</th>\n",
       "      <td>...</td>\n",
       "      <td>...</td>\n",
       "      <td>...</td>\n",
       "      <td>...</td>\n",
       "      <td>...</td>\n",
       "      <td>...</td>\n",
       "      <td>...</td>\n",
       "      <td>...</td>\n",
       "    </tr>\n",
       "    <tr>\n",
       "      <th>972</th>\n",
       "      <td>2022</td>\n",
       "      <td>SK</td>\n",
       "      <td>Slovakia</td>\n",
       "      <td>IT</td>\n",
       "      <td>Italy</td>\n",
       "      <td>3.994999e+08</td>\n",
       "      <td>617.846667</td>\n",
       "      <td>130.656667</td>\n",
       "    </tr>\n",
       "    <tr>\n",
       "      <th>973</th>\n",
       "      <td>2022</td>\n",
       "      <td>SK</td>\n",
       "      <td>Slovakia</td>\n",
       "      <td>PL</td>\n",
       "      <td>Poland</td>\n",
       "      <td>7.033455e+07</td>\n",
       "      <td>241.165000</td>\n",
       "      <td>107.145000</td>\n",
       "    </tr>\n",
       "    <tr>\n",
       "      <th>974</th>\n",
       "      <td>2022</td>\n",
       "      <td>SK</td>\n",
       "      <td>Slovakia</td>\n",
       "      <td>SK</td>\n",
       "      <td>Slovakia</td>\n",
       "      <td>2.408444e+09</td>\n",
       "      <td>193.423333</td>\n",
       "      <td>52.060000</td>\n",
       "    </tr>\n",
       "    <tr>\n",
       "      <th>975</th>\n",
       "      <td>2022</td>\n",
       "      <td>SK</td>\n",
       "      <td>Slovakia</td>\n",
       "      <td>TR</td>\n",
       "      <td>Turkey</td>\n",
       "      <td>2.871710e+08</td>\n",
       "      <td>957.230000</td>\n",
       "      <td>114.790000</td>\n",
       "    </tr>\n",
       "    <tr>\n",
       "      <th>976</th>\n",
       "      <td>2022</td>\n",
       "      <td>SK</td>\n",
       "      <td>Slovakia</td>\n",
       "      <td>UK</td>\n",
       "      <td>United Kingdom</td>\n",
       "      <td>3.583938e+07</td>\n",
       "      <td>533.830000</td>\n",
       "      <td>99.500000</td>\n",
       "    </tr>\n",
       "  </tbody>\n",
       "</table>\n",
       "<p>977 rows × 8 columns</p>\n",
       "</div>"
      ],
      "text/plain": [
       "     Year Origin_Country_Code Origin_Country Destination_Country_Code  \\\n",
       "0    2019                  AL        Albania                       AT   \n",
       "1    2019                  AL        Albania                       CH   \n",
       "2    2019                  AL        Albania                       DE   \n",
       "3    2019                  AL        Albania                       EL   \n",
       "4    2019                  AL        Albania                       FR   \n",
       "..    ...                 ...            ...                      ...   \n",
       "972  2022                  SK       Slovakia                       IT   \n",
       "973  2022                  SK       Slovakia                       PL   \n",
       "974  2022                  SK       Slovakia                       SK   \n",
       "975  2022                  SK       Slovakia                       TR   \n",
       "976  2022                  SK       Slovakia                       UK   \n",
       "\n",
       "    Destination_Country  Total_Expenditure_EUR  Avg_Exp_per_Trip_EUR  \\\n",
       "0               Austria           6.275244e+06            126.166667   \n",
       "1           Switzerland           1.339693e+06            115.970000   \n",
       "2               Germany           1.492818e+07            162.510000   \n",
       "3                Greece           1.192022e+08            160.233333   \n",
       "4                France           6.803330e+06            312.690000   \n",
       "..                  ...                    ...                   ...   \n",
       "972               Italy           3.994999e+08            617.846667   \n",
       "973              Poland           7.033455e+07            241.165000   \n",
       "974            Slovakia           2.408444e+09            193.423333   \n",
       "975              Turkey           2.871710e+08            957.230000   \n",
       "976      United Kingdom           3.583938e+07            533.830000   \n",
       "\n",
       "     Avg_Exp_per_Night_EUR  \n",
       "0                28.533333  \n",
       "1                32.350000  \n",
       "2                10.340000  \n",
       "3                24.463333  \n",
       "4                16.260000  \n",
       "..                     ...  \n",
       "972             130.656667  \n",
       "973             107.145000  \n",
       "974              52.060000  \n",
       "975             114.790000  \n",
       "976              99.500000  \n",
       "\n",
       "[977 rows x 8 columns]"
      ]
     },
     "execution_count": 10,
     "metadata": {},
     "output_type": "execute_result"
    }
   ],
   "source": [
    "agg"
   ]
  },
  {
   "cell_type": "code",
   "execution_count": 11,
   "metadata": {},
   "outputs": [],
   "source": [
    "agg.to_csv(\"./data/tourism_exp_dest_agg.csv\", index=False)"
   ]
  },
  {
   "cell_type": "code",
   "execution_count": 12,
   "metadata": {},
   "outputs": [
    {
     "data": {
      "text/html": [
       "<div>\n",
       "<style scoped>\n",
       "    .dataframe tbody tr th:only-of-type {\n",
       "        vertical-align: middle;\n",
       "    }\n",
       "\n",
       "    .dataframe tbody tr th {\n",
       "        vertical-align: top;\n",
       "    }\n",
       "\n",
       "    .dataframe thead th {\n",
       "        text-align: right;\n",
       "    }\n",
       "</style>\n",
       "<table border=\"1\" class=\"dataframe\">\n",
       "  <thead>\n",
       "    <tr style=\"text-align: right;\">\n",
       "      <th></th>\n",
       "      <th>Year</th>\n",
       "      <th>Origin_Country_Code</th>\n",
       "      <th>Origin_Country</th>\n",
       "      <th>Destination_Country_Code</th>\n",
       "      <th>Destination_Country</th>\n",
       "      <th>Total_Expenditure_EUR</th>\n",
       "      <th>Avg_Exp_per_Trip_EUR</th>\n",
       "      <th>Avg_Exp_per_Night_EUR</th>\n",
       "    </tr>\n",
       "  </thead>\n",
       "  <tbody>\n",
       "    <tr>\n",
       "      <th>26</th>\n",
       "      <td>2019</td>\n",
       "      <td>AT</td>\n",
       "      <td>Austria</td>\n",
       "      <td>SE</td>\n",
       "      <td>Sweden</td>\n",
       "      <td>175028584.0</td>\n",
       "      <td>1214.20</td>\n",
       "      <td>129.170</td>\n",
       "    </tr>\n",
       "    <tr>\n",
       "      <th>549</th>\n",
       "      <td>2022</td>\n",
       "      <td>AT</td>\n",
       "      <td>Austria</td>\n",
       "      <td>SE</td>\n",
       "      <td>Sweden</td>\n",
       "      <td>163631840.0</td>\n",
       "      <td>1632.49</td>\n",
       "      <td>167.115</td>\n",
       "    </tr>\n",
       "  </tbody>\n",
       "</table>\n",
       "</div>"
      ],
      "text/plain": [
       "     Year Origin_Country_Code Origin_Country Destination_Country_Code  \\\n",
       "26   2019                  AT        Austria                       SE   \n",
       "549  2022                  AT        Austria                       SE   \n",
       "\n",
       "    Destination_Country  Total_Expenditure_EUR  Avg_Exp_per_Trip_EUR  \\\n",
       "26               Sweden            175028584.0               1214.20   \n",
       "549              Sweden            163631840.0               1632.49   \n",
       "\n",
       "     Avg_Exp_per_Night_EUR  \n",
       "26                 129.170  \n",
       "549                167.115  "
      ]
     },
     "execution_count": 12,
     "metadata": {},
     "output_type": "execute_result"
    }
   ],
   "source": [
    "agg.loc[(agg.Origin_Country == \"Austria\") & (agg.Destination_Country == \"Sweden\")]"
   ]
  },
  {
   "cell_type": "code",
   "execution_count": null,
   "metadata": {},
   "outputs": [],
   "source": []
  }
 ],
 "metadata": {
  "kernelspec": {
   "display_name": "base",
   "language": "python",
   "name": "python3"
  },
  "language_info": {
   "codemirror_mode": {
    "name": "ipython",
    "version": 3
   },
   "file_extension": ".py",
   "mimetype": "text/x-python",
   "name": "python",
   "nbconvert_exporter": "python",
   "pygments_lexer": "ipython3",
   "version": "3.11.5"
  }
 },
 "nbformat": 4,
 "nbformat_minor": 2
}

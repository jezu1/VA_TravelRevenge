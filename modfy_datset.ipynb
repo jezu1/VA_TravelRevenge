{
 "cells": [
  {
   "cell_type": "code",
   "execution_count": 21,
   "metadata": {},
   "outputs": [
    {
     "data": {
      "text/html": [
       "<div>\n",
       "<style scoped>\n",
       "    .dataframe tbody tr th:only-of-type {\n",
       "        vertical-align: middle;\n",
       "    }\n",
       "\n",
       "    .dataframe tbody tr th {\n",
       "        vertical-align: top;\n",
       "    }\n",
       "\n",
       "    .dataframe thead th {\n",
       "        text-align: right;\n",
       "    }\n",
       "</style>\n",
       "<table border=\"1\" class=\"dataframe\">\n",
       "  <thead>\n",
       "    <tr style=\"text-align: right;\">\n",
       "      <th></th>\n",
       "      <th>Year</th>\n",
       "      <th>Origin_Country_Code</th>\n",
       "      <th>Origin_Country</th>\n",
       "      <th>Destination_Country_Code</th>\n",
       "      <th>Destination_Country</th>\n",
       "      <th>Purpose</th>\n",
       "      <th>Duration</th>\n",
       "      <th>Expenditure_Type</th>\n",
       "      <th>Total_Expenditure_EUR</th>\n",
       "      <th>Avg_Exp_per_Trip_EUR</th>\n",
       "      <th>Avg_Exp_per_Night_EUR</th>\n",
       "    </tr>\n",
       "  </thead>\n",
       "  <tbody>\n",
       "    <tr>\n",
       "      <th>0</th>\n",
       "      <td>2019</td>\n",
       "      <td>CH</td>\n",
       "      <td>Switzerland</td>\n",
       "      <td>AT</td>\n",
       "      <td>Austria</td>\n",
       "      <td>Personal reasons</td>\n",
       "      <td>From 1 to 3 nights</td>\n",
       "      <td>Total excluding durable/valuable goods</td>\n",
       "      <td>1.507463e+08</td>\n",
       "      <td>515.43</td>\n",
       "      <td>235.45</td>\n",
       "    </tr>\n",
       "    <tr>\n",
       "      <th>1</th>\n",
       "      <td>2019</td>\n",
       "      <td>CZ</td>\n",
       "      <td>Czechia</td>\n",
       "      <td>AT</td>\n",
       "      <td>Austria</td>\n",
       "      <td>Personal reasons</td>\n",
       "      <td>From 1 to 3 nights</td>\n",
       "      <td>Total excluding durable/valuable goods</td>\n",
       "      <td>5.708994e+07</td>\n",
       "      <td>201.97</td>\n",
       "      <td>86.65</td>\n",
       "    </tr>\n",
       "    <tr>\n",
       "      <th>2</th>\n",
       "      <td>2022</td>\n",
       "      <td>CZ</td>\n",
       "      <td>Czechia</td>\n",
       "      <td>AT</td>\n",
       "      <td>Austria</td>\n",
       "      <td>Personal reasons</td>\n",
       "      <td>From 1 to 3 nights</td>\n",
       "      <td>Total excluding durable/valuable goods</td>\n",
       "      <td>5.242496e+07</td>\n",
       "      <td>251.23</td>\n",
       "      <td>99.39</td>\n",
       "    </tr>\n",
       "    <tr>\n",
       "      <th>3</th>\n",
       "      <td>2019</td>\n",
       "      <td>DE</td>\n",
       "      <td>Germany</td>\n",
       "      <td>AT</td>\n",
       "      <td>Austria</td>\n",
       "      <td>Personal reasons</td>\n",
       "      <td>From 1 to 3 nights</td>\n",
       "      <td>Total excluding durable/valuable goods</td>\n",
       "      <td>1.129304e+09</td>\n",
       "      <td>337.69</td>\n",
       "      <td>139.85</td>\n",
       "    </tr>\n",
       "    <tr>\n",
       "      <th>4</th>\n",
       "      <td>2022</td>\n",
       "      <td>DE</td>\n",
       "      <td>Germany</td>\n",
       "      <td>AT</td>\n",
       "      <td>Austria</td>\n",
       "      <td>Personal reasons</td>\n",
       "      <td>From 1 to 3 nights</td>\n",
       "      <td>Total excluding durable/valuable goods</td>\n",
       "      <td>1.442022e+09</td>\n",
       "      <td>416.05</td>\n",
       "      <td>179.45</td>\n",
       "    </tr>\n",
       "  </tbody>\n",
       "</table>\n",
       "</div>"
      ],
      "text/plain": [
       "   Year Origin_Country_Code Origin_Country Destination_Country_Code   \n",
       "0  2019                  CH    Switzerland                       AT  \\\n",
       "1  2019                  CZ        Czechia                       AT   \n",
       "2  2022                  CZ        Czechia                       AT   \n",
       "3  2019                  DE        Germany                       AT   \n",
       "4  2022                  DE        Germany                       AT   \n",
       "\n",
       "  Destination_Country           Purpose            Duration   \n",
       "0             Austria  Personal reasons  From 1 to 3 nights  \\\n",
       "1             Austria  Personal reasons  From 1 to 3 nights   \n",
       "2             Austria  Personal reasons  From 1 to 3 nights   \n",
       "3             Austria  Personal reasons  From 1 to 3 nights   \n",
       "4             Austria  Personal reasons  From 1 to 3 nights   \n",
       "\n",
       "                         Expenditure_Type  Total_Expenditure_EUR   \n",
       "0  Total excluding durable/valuable goods           1.507463e+08  \\\n",
       "1  Total excluding durable/valuable goods           5.708994e+07   \n",
       "2  Total excluding durable/valuable goods           5.242496e+07   \n",
       "3  Total excluding durable/valuable goods           1.129304e+09   \n",
       "4  Total excluding durable/valuable goods           1.442022e+09   \n",
       "\n",
       "   Avg_Exp_per_Trip_EUR  Avg_Exp_per_Night_EUR  \n",
       "0                515.43                 235.45  \n",
       "1                201.97                  86.65  \n",
       "2                251.23                  99.39  \n",
       "3                337.69                 139.85  \n",
       "4                416.05                 179.45  "
      ]
     },
     "execution_count": 21,
     "metadata": {},
     "output_type": "execute_result"
    }
   ],
   "source": [
    "#import tourism_exp_dest.csv\n",
    "import pandas as pd\n",
    "import numpy as np\n",
    "import matplotlib.pyplot as plt\n",
    "\n",
    "#read csv file\n",
    "df = pd.read_csv('./data/tourism_exp_dest_1.csv')\n",
    "\n",
    "df.head()\n"
   ]
  },
  {
   "cell_type": "code",
   "execution_count": null,
   "metadata": {},
   "outputs": [],
   "source": []
  },
  {
   "cell_type": "code",
   "execution_count": 22,
   "metadata": {},
   "outputs": [],
   "source": [
    "#show me all the columns that the Avg_Exp_per_Trip_EUR is equal to 0\n",
    "df[df['Avg_Exp_per_Trip_EUR'] == 0]\n",
    "\n",
    "#remove the rows where Avg_Exp_per_Trip_EUR is equal to 0\n",
    "df = df[df['Avg_Exp_per_Trip_EUR'] > 100]\n"
   ]
  },
  {
   "cell_type": "code",
   "execution_count": 27,
   "metadata": {},
   "outputs": [
    {
     "data": {
      "text/html": [
       "<div>\n",
       "<style scoped>\n",
       "    .dataframe tbody tr th:only-of-type {\n",
       "        vertical-align: middle;\n",
       "    }\n",
       "\n",
       "    .dataframe tbody tr th {\n",
       "        vertical-align: top;\n",
       "    }\n",
       "\n",
       "    .dataframe thead th {\n",
       "        text-align: right;\n",
       "    }\n",
       "</style>\n",
       "<table border=\"1\" class=\"dataframe\">\n",
       "  <thead>\n",
       "    <tr style=\"text-align: right;\">\n",
       "      <th></th>\n",
       "      <th>Year</th>\n",
       "      <th>Origin_Country_Code</th>\n",
       "      <th>Origin_Country</th>\n",
       "      <th>Destination_Country_Code</th>\n",
       "      <th>Destination_Country</th>\n",
       "      <th>Purpose</th>\n",
       "      <th>Duration</th>\n",
       "      <th>Expenditure_Type</th>\n",
       "      <th>Total_Expenditure_EUR</th>\n",
       "      <th>Avg_Exp_per_Trip_EUR</th>\n",
       "      <th>Avg_Exp_per_Night_EUR</th>\n",
       "    </tr>\n",
       "  </thead>\n",
       "  <tbody>\n",
       "  </tbody>\n",
       "</table>\n",
       "</div>"
      ],
      "text/plain": [
       "Empty DataFrame\n",
       "Columns: [Year, Origin_Country_Code, Origin_Country, Destination_Country_Code, Destination_Country, Purpose, Duration, Expenditure_Type, Total_Expenditure_EUR, Avg_Exp_per_Trip_EUR, Avg_Exp_per_Night_EUR]\n",
       "Index: []"
      ]
     },
     "execution_count": 27,
     "metadata": {},
     "output_type": "execute_result"
    }
   ],
   "source": [
    "#show me all the columns that the Avg_Exp_per_Trip_EUR is less then 100\n",
    "df[df['Avg_Exp_per_Trip_EUR'] < 100]"
   ]
  },
  {
   "cell_type": "code",
   "execution_count": null,
   "metadata": {},
   "outputs": [],
   "source": []
  },
  {
   "cell_type": "code",
   "execution_count": 24,
   "metadata": {},
   "outputs": [],
   "source": [
    "#remove the rows where Origin country is the same as destination country\n",
    "df = df[df['Origin_Country'] != df['Destination_Country']]"
   ]
  },
  {
   "cell_type": "code",
   "execution_count": 26,
   "metadata": {},
   "outputs": [],
   "source": [
    "#save the dataframe to a new csv file\n",
    "df.to_csv('./data/tourism_exp_dest_2.csv', index=False)"
   ]
  },
  {
   "cell_type": "code",
   "execution_count": null,
   "metadata": {},
   "outputs": [],
   "source": []
  },
  {
   "cell_type": "code",
   "execution_count": null,
   "metadata": {},
   "outputs": [],
   "source": []
  },
  {
   "cell_type": "code",
   "execution_count": null,
   "metadata": {},
   "outputs": [],
   "source": []
  }
 ],
 "metadata": {
  "kernelspec": {
   "display_name": "Python 3",
   "language": "python",
   "name": "python3"
  },
  "language_info": {
   "codemirror_mode": {
    "name": "ipython",
    "version": 3
   },
   "file_extension": ".py",
   "mimetype": "text/x-python",
   "name": "python",
   "nbconvert_exporter": "python",
   "pygments_lexer": "ipython3",
   "version": "3.10.10"
  }
 },
 "nbformat": 4,
 "nbformat_minor": 2
}
